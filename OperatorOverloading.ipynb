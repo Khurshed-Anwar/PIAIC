{
 "cells": [
  {
   "cell_type": "code",
   "execution_count": 7,
   "metadata": {},
   "outputs": [
    {
     "name": "stdout",
     "output_type": "stream",
     "text": [
      "34\n"
     ]
    }
   ],
   "source": [
    "import math\n",
    "\n",
    "\n",
    "class Student:\n",
    "    def __init__(s, english, math, science):\n",
    "        s.english = english\n",
    "        s.math = math\n",
    "        s.science=science\n",
    "\n",
    "    def __str__(s):\n",
    "        return str(s.english + s.math + s.science)\n",
    "\n",
    "    def __add__(s, o):        \n",
    "        eng = s.english + o.english\n",
    "        maths = s.math + o.math\n",
    "        sci = s.science + o.science\n",
    "        newStudent = Student(eng, maths, sci)\n",
    "        return newStudent\n",
    "\n",
    "Hassan = Student(4,5,6)\n",
    "Hamid =Student(6,7,6)\n",
    "\n",
    "print (Hassan + Hamid)"
   ]
  }
 ],
 "metadata": {
  "kernelspec": {
   "display_name": "Python 3.9.12 ('base')",
   "language": "python",
   "name": "python3"
  },
  "language_info": {
   "codemirror_mode": {
    "name": "ipython",
    "version": 3
   },
   "file_extension": ".py",
   "mimetype": "text/x-python",
   "name": "python",
   "nbconvert_exporter": "python",
   "pygments_lexer": "ipython3",
   "version": "3.9.12"
  },
  "orig_nbformat": 4,
  "vscode": {
   "interpreter": {
    "hash": "9f43f7f3cb093ab1d7870b6abb18261ee658c6dc1dd0914009fea9c925be05ea"
   }
  }
 },
 "nbformat": 4,
 "nbformat_minor": 2
}

{
 "cells": [
  {
   "cell_type": "code",
   "execution_count": 26,
   "metadata": {},
   "outputs": [
    {
     "name": "stdout",
     "output_type": "stream",
     "text": [
      "Mother Khurshed Anwar\n",
      "['age', 'changLastName', 'changeCodeLanguage', 'code_language', 'cooking_dish', 'drama', 'first_name', 'height', 'isMinor', 'last_name', 'printName', 'watch_drama', 'weight']\n"
     ]
    }
   ],
   "source": [
    "class Human():\n",
    "    def __init__(self, first_name, last_name, age):\n",
    "        self.first_name = first_name;\n",
    "        self.last_name = last_name;\n",
    "        self.age = age;\n",
    "    def isMinor(s):\n",
    "        if(s.age <25):\n",
    "            return(\"Its minor\")\n",
    "        else:\n",
    "            return(\"Not minor\")\n",
    "\n",
    "    def changLastName(s, newLastName):\n",
    "        s.LastName = newLastName\n",
    "\n",
    "    def printName(f):\n",
    "        print(\"Father \" + f.first_name + \" \" + f.last_name);\n",
    "\n",
    "class Father(Human):\n",
    "    def __init__(s, first_name, last_name, age, code_language=\"\"):\n",
    "        Human.__init__(s,first_name, last_name, age)\n",
    "        s.code_language = code_language\n",
    "    \n",
    "    def changeCodeLanguage(s, code_language):\n",
    "        s.code_language = code_language\n",
    "\n",
    "class Mother(Human):\n",
    "    def __init__(s, first_name, last_name, age, cooking_dish=\"\"):\n",
    "        Human.__init__(s, first_name, last_name, age) \n",
    "        s.cooking_dish = cooking_dish\n",
    "        s.drama = \"\"\n",
    "\n",
    "    def watch_drama(s, drama):\n",
    "       s.drama = drama\n",
    "    \n",
    "    def printName(f):\n",
    "        print(\"Mother \" + f.first_name + \" \" + f.last_name);\n",
    "\n",
    "class Child(Father, Mother):\n",
    "    def __init__(s, first_name, last_name, age, weight, height):\n",
    "        Father.__init__(s,first_name, last_name, age)\n",
    "        Mother.__init__(s, first_name, last_name, age)\n",
    "        s.weight = weight\n",
    "        s.height = height\n",
    "        \n",
    "c = Child(\"Khurshed\",\"Anwar\",13, 34, 1.5)\n",
    "c.printName();\n",
    "print([i for i in dir(c) if \"__\" not in i]) \n"
   ]
  }
 ],
 "metadata": {
  "kernelspec": {
   "display_name": "Python 3.9.12 ('base')",
   "language": "python",
   "name": "python3"
  },
  "language_info": {
   "codemirror_mode": {
    "name": "ipython",
    "version": 3
   },
   "file_extension": ".py",
   "mimetype": "text/x-python",
   "name": "python",
   "nbconvert_exporter": "python",
   "pygments_lexer": "ipython3",
   "version": "3.9.12"
  },
  "orig_nbformat": 4,
  "vscode": {
   "interpreter": {
    "hash": "9f43f7f3cb093ab1d7870b6abb18261ee658c6dc1dd0914009fea9c925be05ea"
   }
  }
 },
 "nbformat": 4,
 "nbformat_minor": 2
}
